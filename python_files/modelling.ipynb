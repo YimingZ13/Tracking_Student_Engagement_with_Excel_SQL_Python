{
 "cells": [
  {
   "cell_type": "code",
   "execution_count": 44,
   "id": "27fe76ee-de13-4464-b9e3-aa82cc1565c5",
   "metadata": {},
   "outputs": [],
   "source": [
    "import pandas as pd\n",
    "import numpy as np\n",
    "import matplotlib.pyplot as plt\n",
    "%matplotlib inline\n",
    "import seaborn as sns\n",
    "\n",
    "from sklearn.preprocessing import MinMaxScaler, StandardScaler\n",
    "from sklearn.linear_model import LinearRegression\n",
    "from sklearn.model_selection import train_test_split, cross_val_score, RandomizedSearchCV, StratifiedKFold\n",
    "from sklearn.pipeline import Pipeline\n",
    "from sklearn.metrics import mean_squared_error, r2_score\n",
    "\n",
    "import warnings\n",
    "warnings.filterwarnings('ignore')"
   ]
  },
  {
   "cell_type": "code",
   "execution_count": 2,
   "id": "de78ded3-ebb0-40ed-b60a-2e925a8687d4",
   "metadata": {},
   "outputs": [],
   "source": [
    "df = pd.read_csv('minutes_and_certificates.csv')"
   ]
  },
  {
   "cell_type": "code",
   "execution_count": 3,
   "id": "b0de6750-eb7c-40ca-927f-cf1381ffdfe1",
   "metadata": {},
   "outputs": [
    {
     "name": "stdout",
     "output_type": "stream",
     "text": [
      "<class 'pandas.core.frame.DataFrame'>\n",
      "RangeIndex: 658 entries, 0 to 657\n",
      "Data columns (total 3 columns):\n",
      " #   Column               Non-Null Count  Dtype  \n",
      "---  ------               --------------  -----  \n",
      " 0   student_id           658 non-null    int64  \n",
      " 1   minutes_watched      658 non-null    float64\n",
      " 2   certificates_issued  658 non-null    int64  \n",
      "dtypes: float64(1), int64(2)\n",
      "memory usage: 15.5 KB\n"
     ]
    }
   ],
   "source": [
    "df.info()"
   ]
  },
  {
   "cell_type": "code",
   "execution_count": 4,
   "id": "5d2ea583-6c26-438a-a3c6-829b01c7656a",
   "metadata": {},
   "outputs": [
    {
     "data": {
      "text/html": [
       "<div>\n",
       "<style scoped>\n",
       "    .dataframe tbody tr th:only-of-type {\n",
       "        vertical-align: middle;\n",
       "    }\n",
       "\n",
       "    .dataframe tbody tr th {\n",
       "        vertical-align: top;\n",
       "    }\n",
       "\n",
       "    .dataframe thead th {\n",
       "        text-align: right;\n",
       "    }\n",
       "</style>\n",
       "<table border=\"1\" class=\"dataframe\">\n",
       "  <thead>\n",
       "    <tr style=\"text-align: right;\">\n",
       "      <th></th>\n",
       "      <th>student_id</th>\n",
       "      <th>minutes_watched</th>\n",
       "      <th>certificates_issued</th>\n",
       "    </tr>\n",
       "  </thead>\n",
       "  <tbody>\n",
       "    <tr>\n",
       "      <th>0</th>\n",
       "      <td>6</td>\n",
       "      <td>148.12</td>\n",
       "      <td>1</td>\n",
       "    </tr>\n",
       "    <tr>\n",
       "      <th>1</th>\n",
       "      <td>182</td>\n",
       "      <td>2018.87</td>\n",
       "      <td>7</td>\n",
       "    </tr>\n",
       "    <tr>\n",
       "      <th>2</th>\n",
       "      <td>801</td>\n",
       "      <td>6066.00</td>\n",
       "      <td>13</td>\n",
       "    </tr>\n",
       "    <tr>\n",
       "      <th>3</th>\n",
       "      <td>841</td>\n",
       "      <td>1623.63</td>\n",
       "      <td>3</td>\n",
       "    </tr>\n",
       "    <tr>\n",
       "      <th>4</th>\n",
       "      <td>862</td>\n",
       "      <td>1145.65</td>\n",
       "      <td>1</td>\n",
       "    </tr>\n",
       "  </tbody>\n",
       "</table>\n",
       "</div>"
      ],
      "text/plain": [
       "   student_id  minutes_watched  certificates_issued\n",
       "0           6           148.12                    1\n",
       "1         182          2018.87                    7\n",
       "2         801          6066.00                   13\n",
       "3         841          1623.63                    3\n",
       "4         862          1145.65                    1"
      ]
     },
     "execution_count": 4,
     "metadata": {},
     "output_type": "execute_result"
    }
   ],
   "source": [
    "df.head()"
   ]
  },
  {
   "cell_type": "code",
   "execution_count": 5,
   "id": "cb72dd9e-980b-478a-9191-1822f828cb2a",
   "metadata": {},
   "outputs": [
    {
     "data": {
      "text/html": [
       "<style type=\"text/css\">\n",
       "#T_21a8b_row0_col0, #T_21a8b_row1_col0, #T_21a8b_row1_col3, #T_21a8b_row1_col4, #T_21a8b_row1_col5, #T_21a8b_row2_col0, #T_21a8b_row2_col1, #T_21a8b_row2_col2, #T_21a8b_row2_col4, #T_21a8b_row2_col5, #T_21a8b_row2_col6, #T_21a8b_row2_col7 {\n",
       "  background-color: #fff7fb;\n",
       "  color: #000000;\n",
       "}\n",
       "#T_21a8b_row0_col1, #T_21a8b_row0_col2, #T_21a8b_row0_col3, #T_21a8b_row0_col4, #T_21a8b_row0_col5, #T_21a8b_row0_col6, #T_21a8b_row0_col7 {\n",
       "  background-color: #023858;\n",
       "  color: #f1f1f1;\n",
       "}\n",
       "#T_21a8b_row1_col1, #T_21a8b_row1_col6 {\n",
       "  background-color: #fef6fb;\n",
       "  color: #000000;\n",
       "}\n",
       "#T_21a8b_row1_col2 {\n",
       "  background-color: #fef6fa;\n",
       "  color: #000000;\n",
       "}\n",
       "#T_21a8b_row1_col7 {\n",
       "  background-color: #fcf4fa;\n",
       "  color: #000000;\n",
       "}\n",
       "#T_21a8b_row2_col3 {\n",
       "  background-color: #e3e0ee;\n",
       "  color: #000000;\n",
       "}\n",
       "</style>\n",
       "<table id=\"T_21a8b\">\n",
       "  <thead>\n",
       "    <tr>\n",
       "      <th class=\"blank level0\" >&nbsp;</th>\n",
       "      <th id=\"T_21a8b_level0_col0\" class=\"col_heading level0 col0\" >count</th>\n",
       "      <th id=\"T_21a8b_level0_col1\" class=\"col_heading level0 col1\" >mean</th>\n",
       "      <th id=\"T_21a8b_level0_col2\" class=\"col_heading level0 col2\" >std</th>\n",
       "      <th id=\"T_21a8b_level0_col3\" class=\"col_heading level0 col3\" >min</th>\n",
       "      <th id=\"T_21a8b_level0_col4\" class=\"col_heading level0 col4\" >25%</th>\n",
       "      <th id=\"T_21a8b_level0_col5\" class=\"col_heading level0 col5\" >50%</th>\n",
       "      <th id=\"T_21a8b_level0_col6\" class=\"col_heading level0 col6\" >75%</th>\n",
       "      <th id=\"T_21a8b_level0_col7\" class=\"col_heading level0 col7\" >max</th>\n",
       "    </tr>\n",
       "  </thead>\n",
       "  <tbody>\n",
       "    <tr>\n",
       "      <th id=\"T_21a8b_level0_row0\" class=\"row_heading level0 row0\" >student_id</th>\n",
       "      <td id=\"T_21a8b_row0_col0\" class=\"data row0 col0\" >658.000000</td>\n",
       "      <td id=\"T_21a8b_row0_col1\" class=\"data row0 col1\" >211208.088146</td>\n",
       "      <td id=\"T_21a8b_row0_col2\" class=\"data row0 col2\" >84231.181668</td>\n",
       "      <td id=\"T_21a8b_row0_col3\" class=\"data row0 col3\" >6.000000</td>\n",
       "      <td id=\"T_21a8b_row0_col4\" class=\"data row0 col4\" >165566.750000</td>\n",
       "      <td id=\"T_21a8b_row0_col5\" class=\"data row0 col5\" >257267.500000</td>\n",
       "      <td id=\"T_21a8b_row0_col6\" class=\"data row0 col6\" >269534.750000</td>\n",
       "      <td id=\"T_21a8b_row0_col7\" class=\"data row0 col7\" >279766.000000</td>\n",
       "    </tr>\n",
       "    <tr>\n",
       "      <th id=\"T_21a8b_level0_row1\" class=\"row_heading level0 row1\" >minutes_watched</th>\n",
       "      <td id=\"T_21a8b_row1_col0\" class=\"data row1 col0\" >658.000000</td>\n",
       "      <td id=\"T_21a8b_row1_col1\" class=\"data row1 col1\" >877.773754</td>\n",
       "      <td id=\"T_21a8b_row1_col2\" class=\"data row1 col2\" >846.600006</td>\n",
       "      <td id=\"T_21a8b_row1_col3\" class=\"data row1 col3\" >0.000000</td>\n",
       "      <td id=\"T_21a8b_row1_col4\" class=\"data row1 col4\" >330.800000</td>\n",
       "      <td id=\"T_21a8b_row1_col5\" class=\"data row1 col5\" >629.590000</td>\n",
       "      <td id=\"T_21a8b_row1_col6\" class=\"data row1 col6\" >1179.067500</td>\n",
       "      <td id=\"T_21a8b_row1_col7\" class=\"data row1 col7\" >6464.820000</td>\n",
       "    </tr>\n",
       "    <tr>\n",
       "      <th id=\"T_21a8b_level0_row2\" class=\"row_heading level0 row2\" >certificates_issued</th>\n",
       "      <td id=\"T_21a8b_row2_col0\" class=\"data row2 col0\" >658.000000</td>\n",
       "      <td id=\"T_21a8b_row2_col1\" class=\"data row2 col1\" >2.661094</td>\n",
       "      <td id=\"T_21a8b_row2_col2\" class=\"data row2 col2\" >2.863571</td>\n",
       "      <td id=\"T_21a8b_row2_col3\" class=\"data row2 col3\" >1.000000</td>\n",
       "      <td id=\"T_21a8b_row2_col4\" class=\"data row2 col4\" >1.000000</td>\n",
       "      <td id=\"T_21a8b_row2_col5\" class=\"data row2 col5\" >2.000000</td>\n",
       "      <td id=\"T_21a8b_row2_col6\" class=\"data row2 col6\" >3.000000</td>\n",
       "      <td id=\"T_21a8b_row2_col7\" class=\"data row2 col7\" >35.000000</td>\n",
       "    </tr>\n",
       "  </tbody>\n",
       "</table>\n"
      ],
      "text/plain": [
       "<pandas.io.formats.style.Styler at 0x7f84790d76d0>"
      ]
     },
     "execution_count": 5,
     "metadata": {},
     "output_type": "execute_result"
    }
   ],
   "source": [
    "df.describe().T.style.background_gradient()"
   ]
  },
  {
   "cell_type": "code",
   "execution_count": 6,
   "id": "7fbc956e-dfed-4ee0-ac97-33c0dccfb7a8",
   "metadata": {},
   "outputs": [],
   "source": [
    "# drop unwanted column `student_id`\n",
    "df = df.drop(columns='student_id')"
   ]
  },
  {
   "cell_type": "markdown",
   "id": "be2cee3e-5ab8-44a8-95df-cea8b567621e",
   "metadata": {},
   "source": [
    "# Modelling"
   ]
  },
  {
   "cell_type": "code",
   "execution_count": 31,
   "id": "dcfd6f35-5434-4f77-94b4-33dece1049f9",
   "metadata": {},
   "outputs": [],
   "source": [
    "# define target and predicting variables\n",
    "# since we are predicting y based on only one featurue, we need to reshape it as 2D array\n",
    "\n",
    "X = df[['minutes_watched']]  # ensure X is a 2D array\n",
    "y = df['certificates_issued']"
   ]
  },
  {
   "cell_type": "code",
   "execution_count": 32,
   "id": "1e73382d-e24c-45ca-a06d-6f69411d9f22",
   "metadata": {},
   "outputs": [],
   "source": [
    "# split data into train, test sets\n",
    "X_train, X_test, y_train, y_test = train_test_split(X, y, test_size=0.2, random_state=42)"
   ]
  },
  {
   "cell_type": "code",
   "execution_count": 33,
   "id": "64856295-8a45-46b1-a7c2-59e4c58d6860",
   "metadata": {},
   "outputs": [
    {
     "data": {
      "text/html": [
       "<style>#sk-container-id-5 {color: black;}#sk-container-id-5 pre{padding: 0;}#sk-container-id-5 div.sk-toggleable {background-color: white;}#sk-container-id-5 label.sk-toggleable__label {cursor: pointer;display: block;width: 100%;margin-bottom: 0;padding: 0.3em;box-sizing: border-box;text-align: center;}#sk-container-id-5 label.sk-toggleable__label-arrow:before {content: \"▸\";float: left;margin-right: 0.25em;color: #696969;}#sk-container-id-5 label.sk-toggleable__label-arrow:hover:before {color: black;}#sk-container-id-5 div.sk-estimator:hover label.sk-toggleable__label-arrow:before {color: black;}#sk-container-id-5 div.sk-toggleable__content {max-height: 0;max-width: 0;overflow: hidden;text-align: left;background-color: #f0f8ff;}#sk-container-id-5 div.sk-toggleable__content pre {margin: 0.2em;color: black;border-radius: 0.25em;background-color: #f0f8ff;}#sk-container-id-5 input.sk-toggleable__control:checked~div.sk-toggleable__content {max-height: 200px;max-width: 100%;overflow: auto;}#sk-container-id-5 input.sk-toggleable__control:checked~label.sk-toggleable__label-arrow:before {content: \"▾\";}#sk-container-id-5 div.sk-estimator input.sk-toggleable__control:checked~label.sk-toggleable__label {background-color: #d4ebff;}#sk-container-id-5 div.sk-label input.sk-toggleable__control:checked~label.sk-toggleable__label {background-color: #d4ebff;}#sk-container-id-5 input.sk-hidden--visually {border: 0;clip: rect(1px 1px 1px 1px);clip: rect(1px, 1px, 1px, 1px);height: 1px;margin: -1px;overflow: hidden;padding: 0;position: absolute;width: 1px;}#sk-container-id-5 div.sk-estimator {font-family: monospace;background-color: #f0f8ff;border: 1px dotted black;border-radius: 0.25em;box-sizing: border-box;margin-bottom: 0.5em;}#sk-container-id-5 div.sk-estimator:hover {background-color: #d4ebff;}#sk-container-id-5 div.sk-parallel-item::after {content: \"\";width: 100%;border-bottom: 1px solid gray;flex-grow: 1;}#sk-container-id-5 div.sk-label:hover label.sk-toggleable__label {background-color: #d4ebff;}#sk-container-id-5 div.sk-serial::before {content: \"\";position: absolute;border-left: 1px solid gray;box-sizing: border-box;top: 0;bottom: 0;left: 50%;z-index: 0;}#sk-container-id-5 div.sk-serial {display: flex;flex-direction: column;align-items: center;background-color: white;padding-right: 0.2em;padding-left: 0.2em;position: relative;}#sk-container-id-5 div.sk-item {position: relative;z-index: 1;}#sk-container-id-5 div.sk-parallel {display: flex;align-items: stretch;justify-content: center;background-color: white;position: relative;}#sk-container-id-5 div.sk-item::before, #sk-container-id-5 div.sk-parallel-item::before {content: \"\";position: absolute;border-left: 1px solid gray;box-sizing: border-box;top: 0;bottom: 0;left: 50%;z-index: -1;}#sk-container-id-5 div.sk-parallel-item {display: flex;flex-direction: column;z-index: 1;position: relative;background-color: white;}#sk-container-id-5 div.sk-parallel-item:first-child::after {align-self: flex-end;width: 50%;}#sk-container-id-5 div.sk-parallel-item:last-child::after {align-self: flex-start;width: 50%;}#sk-container-id-5 div.sk-parallel-item:only-child::after {width: 0;}#sk-container-id-5 div.sk-dashed-wrapped {border: 1px dashed gray;margin: 0 0.4em 0.5em 0.4em;box-sizing: border-box;padding-bottom: 0.4em;background-color: white;}#sk-container-id-5 div.sk-label label {font-family: monospace;font-weight: bold;display: inline-block;line-height: 1.2em;}#sk-container-id-5 div.sk-label-container {text-align: center;}#sk-container-id-5 div.sk-container {/* jupyter's `normalize.less` sets `[hidden] { display: none; }` but bootstrap.min.css set `[hidden] { display: none !important; }` so we also need the `!important` here to be able to override the default hidden behavior on the sphinx rendered scikit-learn.org. See: https://github.com/scikit-learn/scikit-learn/issues/21755 */display: inline-block !important;position: relative;}#sk-container-id-5 div.sk-text-repr-fallback {display: none;}</style><div id=\"sk-container-id-5\" class=\"sk-top-container\"><div class=\"sk-text-repr-fallback\"><pre>LinearRegression(n_jobs=-1)</pre><b>In a Jupyter environment, please rerun this cell to show the HTML representation or trust the notebook. <br />On GitHub, the HTML representation is unable to render, please try loading this page with nbviewer.org.</b></div><div class=\"sk-container\" hidden><div class=\"sk-item\"><div class=\"sk-estimator sk-toggleable\"><input class=\"sk-toggleable__control sk-hidden--visually\" id=\"sk-estimator-id-5\" type=\"checkbox\" checked><label for=\"sk-estimator-id-5\" class=\"sk-toggleable__label sk-toggleable__label-arrow\">LinearRegression</label><div class=\"sk-toggleable__content\"><pre>LinearRegression(n_jobs=-1)</pre></div></div></div></div></div>"
      ],
      "text/plain": [
       "LinearRegression(n_jobs=-1)"
      ]
     },
     "execution_count": 33,
     "metadata": {},
     "output_type": "execute_result"
    }
   ],
   "source": [
    "# fit the model\n",
    "model = LinearRegression(n_jobs=-1)\n",
    "\n",
    "model.fit(X_train,y_train)"
   ]
  },
  {
   "cell_type": "code",
   "execution_count": 34,
   "id": "9a0a74ca-52b3-416e-a9bb-75fd767a9391",
   "metadata": {},
   "outputs": [
    {
     "data": {
      "text/plain": [
       "(1.2906568291230498, array([0.00146215]))"
      ]
     },
     "execution_count": 34,
     "metadata": {},
     "output_type": "execute_result"
    }
   ],
   "source": [
    "# get the interception and the coefficient of the model\n",
    "model.intercept_, model.coef_"
   ]
  },
  {
   "cell_type": "code",
   "execution_count": 47,
   "id": "8773d1a9-5ea7-4e56-827a-af1541ff989e",
   "metadata": {},
   "outputs": [
    {
     "data": {
      "text/plain": [
       "0.24026809272839034"
      ]
     },
     "execution_count": 47,
     "metadata": {},
     "output_type": "execute_result"
    }
   ],
   "source": [
    "# get the coefficient of determination r2\n",
    "model.score(X_train,y_train)"
   ]
  },
  {
   "cell_type": "code",
   "execution_count": 36,
   "id": "646cf6ee-4108-4966-b51c-6aaa582a63a0",
   "metadata": {},
   "outputs": [],
   "source": [
    "# predict on test set\n",
    "y_pred = model.predict(X_test)"
   ]
  },
  {
   "cell_type": "code",
   "execution_count": 46,
   "id": "ed64257d-99c1-4c1c-996e-6a5a69fe69d1",
   "metadata": {},
   "outputs": [
    {
     "data": {
      "text/plain": [
       "Text(0, 0.5, 'Predicted Value')"
      ]
     },
     "execution_count": 46,
     "metadata": {},
     "output_type": "execute_result"
    },
    {
     "data": {
      "image/png": "[encoded data removed]",
      "text/plain": [
       "<Figure size 640x480 with 1 Axes>"
      ]
     },
     "metadata": {},
     "output_type": "display_data"
    }
   ],
   "source": [
    "# visualize predictions and the actual y test\n",
    "sns.scatterplot(x=y_test,\n",
    "                y=y_pred)\n",
    "\n",
    "plt.title('Actual Values vs Predictions')\n",
    "plt.xlabel('Actual Value')\n",
    "plt.ylabel('Predicted Value')"
   ]
  },
  {
   "cell_type": "markdown",
   "id": "c97f5b70-100c-455b-a1e9-5a3535e002bb",
   "metadata": {},
   "source": [
    "The points are scattered, showing a lack of a clear linear pattern. Ideally, if the model predictions were perfect, all points would lie on the 45-degree line where the predicted value equals the actual value. The dispersion of points away from the 45-degree line suggests that the model is not highly accurate. The predictions do not consistently align with the actual values.\n",
    "- There is a high concentration of points in the lower ranges of the actual values (0 to 5), indicating that many actual values are clustered in this range.\n",
    "- Predicted values also show a concentration in the lower range (0 to 5), but there are some predicted values that are much higher than the corresponding actual values.\n",
    "- There are noticeable outliers where the actual values are much higher (up to 35), but the corresponding predicted values are considerably lower (around 10). This indicates the model's limitations in capturing high actual values accurately.\n",
    "- Some predicted values are high (up to 10) even when the actual values are relatively low, suggesting overestimation by the model in some cases."
   ]
  },
  {
   "cell_type": "markdown",
   "id": "389b9572-ea55-4208-b3a0-be0439427726",
   "metadata": {},
   "source": [
    "# Conclusion"
   ]
  },
  {
   "cell_type": "markdown",
   "id": "7dceba5c-9cf8-4c8b-a2d0-7f168c145dd8",
   "metadata": {},
   "source": [
    "The resulted $R^2$ is 0.24027, which suggests that about 24% of the variability in the target feature (the number of certificates issued) is explained by the predicting feature (the number of total minutes watched). In other words, our model does not account for the rest 70% of variance. The relationship between the target feature and the predicting feature might not be linear. \n",
    "\n",
    "The insights we got from this result is that other factors also have influences in the number of certificates issued. One of these factors can be the varying durations of different courses. For instance, a student who completes two short courses will receive two certificates, whereas a student who completes one long course - equivalent in length to the two short courses - will only receive one certificate. Another factor to consider is that some students might pass exams without watching the course videos. This could be because they already possess prior knowledge in the subject matter and are only seeking a certification to validate their expertise.\n",
    "\n",
    "Thus, while the model offeres some understanding of the link between minutes watched and the number of certificates issued, it still leaves a significant of variance unexplained. Including the number of minutes watched is a resonable predictor for the target variable, but it should not be the only factor taken into account, to improve the model performance, we should collect and include more features."
   ]
  }
 ],
 "metadata": {
  "kernelspec": {
   "display_name": "Python 3 (ipykernel)",
   "language": "python",
   "name": "python3"
  },
  "language_info": {
   "codemirror_mode": {
    "name": "ipython",
    "version": 3
   },
   "file_extension": ".py",
   "mimetype": "text/x-python",
   "name": "python",
   "nbconvert_exporter": "python",
   "pygments_lexer": "ipython3",
   "version": "3.10.9"
  }
 },
 "nbformat": 4,
 "nbformat_minor": 5
}
